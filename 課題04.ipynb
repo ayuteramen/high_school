{
  "nbformat": 4,
  "nbformat_minor": 0,
  "metadata": {
    "colab": {
      "name": "0520281B-exp4-2-寺面杏優（課題04）.ipynb",
      "provenance": [],
      "collapsed_sections": []
    },
    "kernelspec": {
      "name": "python3",
      "display_name": "Python 3"
    },
    "language_info": {
      "name": "python"
    }
  },
  "cells": [
    {
      "cell_type": "code",
      "execution_count": 1,
      "metadata": {
        "colab": {
          "base_uri": "https://localhost:8080/"
        },
        "id": "k4e5RTXv2gyY",
        "outputId": "cb1584e4-cf5b-48ab-ebf5-8b23c4edd36f"
      },
      "outputs": [
        {
          "output_type": "stream",
          "name": "stdout",
          "text": [
            "[4]\n",
            "s1,s2間の類似度 = 0.6666666666666666 ≒ 0.667\n",
            "s2,s3間の類似度 = 0.25 ≒ 0.250\n",
            "s1,s3間の類似度 = 0.42857142857142855 ≒ 0.429\n"
          ]
        }
      ],
      "source": [
        "print(\"[4]\")\n",
        "\n",
        "s1 = \"I am studying programming .\"\n",
        "s2 = \"I am studying Python .\"\n",
        "s3 = \"I like Java programming .\"\n",
        "\n",
        "def Jaccard(str1, str2):\n",
        "    words1 = str1.split()\n",
        "    words2 = str2.split()\n",
        "    set1 = set(words1)\n",
        "    set2 = set(words2)\n",
        "    add = set1 | set2;\n",
        "    mul = set1 & set2;\n",
        "    result = len(mul) / len(add)\n",
        "    return (result)\n",
        "\n",
        "jac_12 = Jaccard(s1, s2)\n",
        "jac_23 = Jaccard(s2, s3)\n",
        "jac_13 = Jaccard(s1, s3)\n",
        "\n",
        "print('s1,s2間の類似度 = ', end='')\n",
        "print (jac_12, end='')\n",
        "print (' ≒ {:.3f}'.format(jac_12))\n",
        "print('s2,s3間の類似度 = ', end='')\n",
        "print (jac_23, end='')\n",
        "print (' ≒ {:.3f}'.format(jac_23))\n",
        "print('s1,s3間の類似度 = ', end='')\n",
        "print (jac_13, end='')\n",
        "print (' ≒ {:.3f}'.format(jac_13))"
      ]
    }
  ]
}
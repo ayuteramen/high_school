{
  "nbformat": 4,
  "nbformat_minor": 0,
  "metadata": {
    "colab": {
      "name": "0520281B-exp4-2-寺面杏優（課題02）.ipynb",
      "provenance": [],
      "collapsed_sections": []
    },
    "kernelspec": {
      "name": "python3",
      "display_name": "Python 3"
    },
    "language_info": {
      "name": "python"
    }
  },
  "cells": [
    {
      "cell_type": "code",
      "execution_count": 1,
      "metadata": {
        "colab": {
          "base_uri": "https://localhost:8080/"
        },
        "id": "5nJckmMi1mgf",
        "outputId": "629c4ec5-069a-4df9-dfb8-f9b0ed2ba6a8"
      },
      "outputs": [
        {
          "output_type": "stream",
          "name": "stdout",
          "text": [
            "[2]\n",
            "1 × 1 = 1\n",
            "1 × 2 = 2\n",
            "1 × 3 = 3\n",
            "1 × 4 = 4\n",
            "1 × 5 = 5\n",
            "1 × 6 = 6\n",
            "1 × 7 = 7\n",
            "1 × 8 = 8\n",
            "1 × 9 = 9\n",
            "\n",
            "\n",
            "3 × 1 = 3\n",
            "3 × 2 = 6\n",
            "3 × 3 = 9\n",
            "3 × 4 = 12\n",
            "3 × 5 = 15\n",
            "3 × 6 = 18\n",
            "3 × 7 = 21\n",
            "3 × 8 = 24\n",
            "3 × 9 = 27\n",
            "\n",
            "\n",
            "5 × 1 = 5\n",
            "5 × 2 = 10\n",
            "5 × 3 = 15\n",
            "5 × 4 = 20\n",
            "5 × 5 = 25\n",
            "5 × 6 = 30\n",
            "5 × 7 = 35\n",
            "5 × 8 = 40\n",
            "5 × 9 = 45\n",
            "\n",
            "\n",
            "7 × 1 = 7\n",
            "7 × 2 = 14\n",
            "7 × 3 = 21\n",
            "7 × 4 = 28\n",
            "7 × 5 = 35\n",
            "7 × 6 = 42\n",
            "7 × 7 = 49\n",
            "\n",
            "\n",
            "9 × 1 = 9\n",
            "9 × 2 = 18\n",
            "9 × 3 = 27\n",
            "9 × 4 = 36\n",
            "9 × 5 = 45\n",
            "\n",
            "\n"
          ]
        }
      ],
      "source": [
        "print(\"[2]\")\n",
        "\n",
        "for i in range(1, 10):\n",
        "    if i % 2 == 0:\n",
        "        continue;\n",
        "    else:\n",
        "        for j in range(1, 10):\n",
        "            if i*j < 50:\n",
        "                print((i), '×', (j), '=', (i*j), end=\"\\n\")\n",
        "        print('\\n')"
      ]
    }
  ]
}
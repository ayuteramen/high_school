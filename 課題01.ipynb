{
  "nbformat": 4,
  "nbformat_minor": 0,
  "metadata": {
    "colab": {
      "name": "0520281B-exp4-2-寺面杏優（課題01）.ipynb",
      "provenance": [],
      "collapsed_sections": []
    },
    "kernelspec": {
      "name": "python3",
      "display_name": "Python 3"
    },
    "language_info": {
      "name": "python"
    }
  },
  "cells": [
    {
      "cell_type": "code",
      "execution_count": 4,
      "metadata": {
        "id": "BFh5fOKL6gpg",
        "colab": {
          "base_uri": "https://localhost:8080/"
        },
        "outputId": "7c4db3a8-c9ad-456a-bdba-fd220fa8e88f"
      },
      "outputs": [
        {
          "output_type": "stream",
          "name": "stdout",
          "text": [
            "[1]\n",
            "BMI =  22.22222222222222 ≒ 22.222\n",
            "標準\n"
          ]
        }
      ],
      "source": [
        "print(\"[1]\")\n",
        "\n",
        "height = 150\n",
        "weight = 50\n",
        "BMI = weight / height / height * 10000\n",
        "print ('BMI = ', BMI, end='')\n",
        "print (' ≒ {:.3f}'.format(BMI))\n",
        "if BMI < 18.5:\n",
        "    print('痩せすぎ')\n",
        "elif BMI < 25:\n",
        "    print('標準')\n",
        "else:\n",
        "    print('肥満')"
      ]
    }
  ]
}
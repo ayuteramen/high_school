{
  "nbformat": 4,
  "nbformat_minor": 0,
  "metadata": {
    "colab": {
      "name": "0520281B-exp4-2-寺面杏優（課題05）.ipynb",
      "provenance": [],
      "collapsed_sections": []
    },
    "kernelspec": {
      "name": "python3",
      "display_name": "Python 3"
    },
    "language_info": {
      "name": "python"
    }
  },
  "cells": [
    {
      "cell_type": "code",
      "execution_count": 1,
      "metadata": {
        "colab": {
          "base_uri": "https://localhost:8080/"
        },
        "id": "hr00RFvc2shb",
        "outputId": "836ed34f-8b7c-4573-beda-0bafcb5b7c55"
      },
      "outputs": [
        {
          "output_type": "stream",
          "name": "stdout",
          "text": [
            "[5]\n",
            "10 番目の素数 =  29\n",
            "100 番目の素数 =  541\n",
            "1000 番目の素数 =  7919\n"
          ]
        }
      ],
      "source": [
        "print(\"[5]\")\n",
        "\n",
        "def prime_num(num):\n",
        "    n = 0\n",
        "    i = 2\n",
        "    while n != num:\n",
        "        for j in range(2, i):\n",
        "            if i % j == 0:\n",
        "                break\n",
        "        else:\n",
        "            n += 1    \n",
        "        i += 1\n",
        "    return i - 1\n",
        "\n",
        "print ('10 番目の素数 = ', prime_num(10))\n",
        "print ('100 番目の素数 = ', prime_num(100))\n",
        "print ('1000 番目の素数 = ', prime_num(1000))"
      ]
    }
  ]
}
{
  "nbformat": 4,
  "nbformat_minor": 0,
  "metadata": {
    "colab": {
      "name": "0520281B-exp4-2-寺面杏優（課題03）.ipynb",
      "provenance": [],
      "collapsed_sections": []
    },
    "kernelspec": {
      "name": "python3",
      "display_name": "Python 3"
    },
    "language_info": {
      "name": "python"
    }
  },
  "cells": [
    {
      "cell_type": "code",
      "source": [
        "print(\"[3]\")\n",
        "\n",
        "text = \"red green BLUE blue Green Blue\"\n",
        "lower_text = text.lower()\n",
        "#print (lower_text)\n",
        "words = lower_text.split()\n",
        "#print (words)\n",
        "import collections\n",
        "c = collections.Counter(words)\n",
        "print(c.most_common())"
      ],
      "metadata": {
        "id": "pbZYQQUT1-p0",
        "outputId": "8a11eccd-4a3f-42a8-e55c-d0c92ec429d1",
        "colab": {
          "base_uri": "https://localhost:8080/"
        }
      },
      "execution_count": 1,
      "outputs": [
        {
          "output_type": "stream",
          "name": "stdout",
          "text": [
            "[3]\n",
            "[('blue', 3), ('green', 2), ('red', 1)]\n"
          ]
        }
      ]
    }
  ]
}